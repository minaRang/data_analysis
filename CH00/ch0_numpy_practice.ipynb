{
 "cells": [
  {
   "cell_type": "code",
   "execution_count": 2,
   "id": "8d1f8554",
   "metadata": {},
   "outputs": [],
   "source": [
    "import numpy as np #배열 개념으로 변수 사용. 벡터, 행렬등의 연산을 쉽고 빠르게 수행하도록 지원."
   ]
  },
  {
   "cell_type": "code",
   "execution_count": 6,
   "id": "8148c4ba",
   "metadata": {},
   "outputs": [
    {
     "data": {
      "text/plain": [
       "array([[ 0,  1,  2,  3,  4],\n",
       "       [ 5,  6,  7,  8,  9],\n",
       "       [10, 11, 12, 13, 14]])"
      ]
     },
     "execution_count": 6,
     "metadata": {},
     "output_type": "execute_result"
    }
   ],
   "source": [
    "arr1 = np.arange(15).reshape(3,5) #1차원 배열이 3개 2차원 배열이 5개의 값을 가지는 15개의 숫자를 생성하는 코드\n",
    "arr1#넘파이 배열(Numpy array)과 파이썬의 기본 자료구조와는 다른 데이터 타입이다."
   ]
  },
  {
   "cell_type": "code",
   "execution_count": 8,
   "id": "1a702dec",
   "metadata": {},
   "outputs": [
    {
     "data": {
      "text/plain": [
       "(3, 5)"
      ]
     },
     "execution_count": 8,
     "metadata": {},
     "output_type": "execute_result"
    }
   ],
   "source": [
    "arr1.shape #넘파이 배열 데이터의 차원을 확인하는 방법은 shape"
   ]
  },
  {
   "cell_type": "code",
   "execution_count": 9,
   "id": "1995cca8",
   "metadata": {},
   "outputs": [
    {
     "data": {
      "text/plain": [
       "dtype('int64')"
      ]
     },
     "execution_count": 9,
     "metadata": {},
     "output_type": "execute_result"
    }
   ],
   "source": [
    "arr1.dtype #데이터 타입을 확인 하는 방법 => 판다스와 동일한 인터페이스로 구성되어 있음."
   ]
  },
  {
   "cell_type": "code",
   "execution_count": 11,
   "id": "39148ee2",
   "metadata": {},
   "outputs": [
    {
     "data": {
      "text/plain": [
       "array([[0., 0., 0., 0.],\n",
       "       [0., 0., 0., 0.],\n",
       "       [0., 0., 0., 0.]])"
      ]
     },
     "execution_count": 11,
     "metadata": {},
     "output_type": "execute_result"
    }
   ],
   "source": [
    "arr3 = np.zeros((3,4)) #0으로 채워진 배열 생성, 1로 채워진 배열은 ones()\n",
    "arr3"
   ]
  },
  {
   "cell_type": "code",
   "execution_count": 12,
   "id": "5b6aa7de",
   "metadata": {},
   "outputs": [],
   "source": [
    "#넘파이 배열의 존재 이유라고도 할 수 있는 데이터 연산 방법\n",
    "#동일한 shape, + - * / 사칙연산 가능\n",
    "arr4 = np.array([\n",
    "    [1,2,3],\n",
    "    [4,5,6]\n",
    "],dtype = np.float64)\n",
    "\n",
    "arr5 = np.array([\n",
    "    [7,8,9],\n",
    "    [10,11,12]\n",
    "], dtype = np.float64)"
   ]
  },
  {
   "cell_type": "code",
   "execution_count": 13,
   "id": "98245194",
   "metadata": {},
   "outputs": [
    {
     "name": "stdout",
     "output_type": "stream",
     "text": [
      "arr 4 + arr5 = \n"
     ]
    }
   ],
   "source": [
    "print(\"arr 4 + arr5 = \")\n",
    "print(arr4+arr5,\"\\n\")\n"
   ]
  },
  {
   "cell_type": "code",
   "execution_count": null,
   "id": "2aa101e7",
   "metadata": {},
   "outputs": [],
   "source": []
  }
 ],
 "metadata": {
  "kernelspec": {
   "display_name": "Python 3",
   "language": "python",
   "name": "python3"
  },
  "language_info": {
   "codemirror_mode": {
    "name": "ipython",
    "version": 3
   },
   "file_extension": ".py",
   "mimetype": "text/x-python",
   "name": "python",
   "nbconvert_exporter": "python",
   "pygments_lexer": "ipython3",
   "version": "3.8.12"
  }
 },
 "nbformat": 4,
 "nbformat_minor": 5
}
