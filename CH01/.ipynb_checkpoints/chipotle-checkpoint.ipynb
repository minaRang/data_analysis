{
 "cells": [
  {
   "cell_type": "code",
   "execution_count": 1,
   "id": "396f9e5d",
   "metadata": {},
   "outputs": [],
   "source": [
    "import pandas as pd"
   ]
  },
  {
   "cell_type": "code",
   "execution_count": 7,
   "id": "e9b8d4d3",
   "metadata": {
    "scrolled": true
   },
   "outputs": [
    {
     "name": "stdout",
     "output_type": "stream",
     "text": [
      "(4622, 5)\n",
      "===============\n",
      "<class 'pandas.core.frame.DataFrame'>\n",
      "RangeIndex: 4622 entries, 0 to 4621\n",
      "Data columns (total 5 columns):\n",
      " #   Column              Non-Null Count  Dtype \n",
      "---  ------              --------------  ----- \n",
      " 0   order_id            4622 non-null   int64 \n",
      " 1   quantity            4622 non-null   int64 \n",
      " 2   item_name           4622 non-null   object\n",
      " 3   choice_description  3376 non-null   object\n",
      " 4   item_price          4622 non-null   object\n",
      "dtypes: int64(2), object(3)\n",
      "memory usage: 180.7+ KB\n",
      "None\n"
     ]
    }
   ],
   "source": [
    "file_path = '../book_example/data/chipotle.tsv'\n",
    "chipo = pd.read_csv(file_path, sep = '\\t') #read_csv() 함수로 데이터를 데이터 프레임 형태로 불러옴.\n",
    "\n",
    "print(chipo.shape) #행과 열의 크기 (4622개의 행과 5개의 피처)\n",
    "print(\"===============\")\n",
    "print(chipo.info())#행의 구성 정보와 열의 구성 정보"
   ]
  },
  {
   "cell_type": "markdown",
   "id": "9ff25d5c",
   "metadata": {},
   "source": [
    "null : 데이터가 비어있는 것. -> 결측값\n",
    "3376 non-null object : 3376개의 비어있지 않은 문자열 데이터가 있음.\n",
    "데이터의 총 갯수는 4622개 이므로 1246개의 결측값 존재"
   ]
  },
  {
   "cell_type": "code",
   "execution_count": 12,
   "id": "182c6ed8",
   "metadata": {},
   "outputs": [
    {
     "name": "stdout",
     "output_type": "stream",
     "text": [
      "   order_id  quantity                              item_name  \\\n",
      "0         1         1           Chips and Fresh Tomato Salsa   \n",
      "1         1         1                                   Izze   \n",
      "2         1         1                       Nantucket Nectar   \n",
      "3         1         1  Chips and Tomatillo-Green Chili Salsa   \n",
      "4         2         2                           Chicken Bowl   \n",
      "5         3         1                           Chicken Bowl   \n",
      "6         3         1                          Side of Chips   \n",
      "7         4         1                          Steak Burrito   \n",
      "8         4         1                       Steak Soft Tacos   \n",
      "9         5         1                          Steak Burrito   \n",
      "\n",
      "                                  choice_description item_price  \n",
      "0                                                NaN     $2.39   \n",
      "1                                       [Clementine]     $3.39   \n",
      "2                                            [Apple]     $3.39   \n",
      "3                                                NaN     $2.39   \n",
      "4  [Tomatillo-Red Chili Salsa (Hot), [Black Beans...    $16.98   \n",
      "5  [Fresh Tomato Salsa (Mild), [Rice, Cheese, Sou...    $10.98   \n",
      "6                                                NaN     $1.69   \n",
      "7  [Tomatillo Red Chili Salsa, [Fajita Vegetables...    $11.75   \n",
      "8  [Tomatillo Green Chili Salsa, [Pinto Beans, Ch...     $9.25   \n",
      "9  [Fresh Tomato Salsa, [Rice, Black Beans, Pinto...     $9.25   \n",
      "Index(['order_id', 'quantity', 'item_name', 'choice_description',\n",
      "       'item_price'],\n",
      "      dtype='object')\n",
      "=======================================================\n",
      "RangeIndex(start=0, stop=4622, step=1)\n"
     ]
    }
   ],
   "source": [
    "print(chipo.head(10))\n",
    "print(chipo.columns)\n",
    "print(\"=======================================================\")\n",
    "print(chipo.index)"
   ]
  },
  {
   "cell_type": "markdown",
   "id": "1ae469c5",
   "metadata": {},
   "source": [
    "### chipotle 데이터 셋 피처의 의미\n",
    "+ order_id : 주문 번호\n",
    "+ quantity : 아이템의 주문 수량\n",
    "+ item_name : 주문한 아이템의 이름\n",
    "+ choice_description : 주문한 아이템의 상세 선택 옵션\n",
    "+ item_price : 주문 아이템의 가격 정보\n",
    "\n",
    "### feature 형태의 종류\n",
    "1. 수치형 피처\n",
    "    + 연속형 피처 : 어떤 구간 안의 모든 값을 데이터로써 가질 수 있음. ex 키, 몸무게  \n",
    "    + 비연속형 피처 : 셀 수 있으며, 일정 구간 안에서 정해진 몇 개의 값을 가져야 함. ex 나이  \n",
    "2. 범주형 피처  \n",
    "    + 순서 있는 범주형 피처 : 순서가 있으나 수치는 아니다 ex. 학점(A,B,..F)  \n",
    "    + 순서 없는 범주형 피처 : 데이터가 구분되면서도 순서가 없다 ex. 혈액형  \n",
    "    \n",
    "### quantity와 item_price의 수치적 특징\n",
    "+ 연속형 피처이다.\n",
    "+ quantity는 숫자지만, item_price는 object 타입이기 때문에 describe()함수로 기초 통계량 알 수 없다  \n",
    "    -> 추가적인 데이터 전처리 작업이 필요하다\n",
    "   "
   ]
  },
  {
   "cell_type": "code",
   "execution_count": 13,
   "id": "c40639e1",
   "metadata": {},
   "outputs": [
    {
     "name": "stdout",
     "output_type": "stream",
     "text": [
      "          quantity\n",
      "count  4622.000000\n",
      "mean      1.075725\n",
      "std       0.410186\n",
      "min       1.000000\n",
      "25%       1.000000\n",
      "50%       1.000000\n",
      "75%       1.000000\n",
      "max      15.000000\n"
     ]
    }
   ],
   "source": [
    "chipo['order_id'] = chipo['order_id'].astype(str) #id는 숫자의 의미가 아니기 때문에 str로 변환\n",
    "print(chipo.describe()) #chipo 데이터 프레임에서 수치형 피처들의 기초 통계량 확인"
   ]
  },
  {
   "cell_type": "code",
   "execution_count": 15,
   "id": "1636027e",
   "metadata": {},
   "outputs": [
    {
     "name": "stdout",
     "output_type": "stream",
     "text": [
      "1834\n",
      "50\n"
     ]
    }
   ],
   "source": [
    "#범주형 피처는 unique() 함수 사용함.\n",
    "print(len(chipo['order_id'].unique())) #order_id 개수 출력\n",
    "print(len(chipo['item_name'].unique())) #item_name 개수 출력"
   ]
  },
  {
   "cell_type": "markdown",
   "id": "0a83ab50",
   "metadata": {},
   "source": [
    "## 인사이트 발견 : 탐색과 시각화\n",
    "\n",
    "1. 가장 많이 주문한 아이템 Top 10 분석하기\n",
    "    + DataFrame['column']의 형태에 value_count() 함수를 적용하는 방식을 사용한다.  \n",
    "    + DataFrame['column']은 시리즈라는 객체를 반환하는데, value_counts()함수는 오로지 이러한 시리즈 객체에만 적용되기 때문\n",
    "2. 아이템 별 주문 개수와 총량\n",
    "    + groupby() 함수 사용하여 아이템별 주문 개수와 총량구하기. \n",
    "    + pandas의 groupby 함수는 데이터 프레임에서 특정 피처를 기준으로 그룹을 생성. 이를 통해 그룹별 연산 가능\n",
    "3. 시각화\n",
    "    + 아이쳄 주문의 총량을 막대 그래프로 시각화 하기\n",
    "    + tolist(), arange() 사용하여 x_pos 선언"
   ]
  },
  {
   "cell_type": "code",
   "execution_count": 17,
   "id": "13fea538",
   "metadata": {},
   "outputs": [
    {
     "name": "stdout",
     "output_type": "stream",
     "text": [
      "TOP 1 : Chicken Bowl 726\n",
      "TOP 2 : Chicken Burrito 553\n",
      "TOP 3 : Chips and Guacamole 479\n",
      "TOP 4 : Steak Burrito 368\n",
      "TOP 5 : Canned Soft Drink 301\n",
      "TOP 6 : Steak Bowl 211\n",
      "TOP 7 : Chips 211\n",
      "TOP 8 : Bottled Water 162\n",
      "TOP 9 : Chicken Soft Tacos 115\n",
      "TOP 10 : Chips and Fresh Tomato Salsa 110\n"
     ]
    }
   ],
   "source": [
    "item_count = chipo['item_name'].value_counts()[:10]\n",
    "\n",
    "for idx, (val, cnt) in enumerate(item_count.iteritems(),1):\n",
    "    print(\"TOP\", idx, \":\", val, cnt)"
   ]
  },
  {
   "cell_type": "code",
   "execution_count": 19,
   "id": "dd6ddd7b",
   "metadata": {},
   "outputs": [
    {
     "data": {
      "text/plain": [
       "item_name\n",
       "6 Pack Soft Drink         54\n",
       "Barbacoa Bowl             66\n",
       "Barbacoa Burrito          91\n",
       "Barbacoa Crispy Tacos     11\n",
       "Barbacoa Salad Bowl       10\n",
       "Barbacoa Soft Tacos       25\n",
       "Bottled Water            162\n",
       "Bowl                       2\n",
       "Burrito                    6\n",
       "Canned Soda              104\n",
       "Name: order_id, dtype: int64"
      ]
     },
     "execution_count": 19,
     "metadata": {},
     "output_type": "execute_result"
    }
   ],
   "source": [
    "#아이템 별 주문 개수\n",
    "order_count = chipo.groupby('item_name')['order_id'].count() #item_name을 그룹으로 order_id피처의 count()계산 \n",
    "order_count[:10]"
   ]
  },
  {
   "cell_type": "code",
   "execution_count": 21,
   "id": "90d5538f",
   "metadata": {},
   "outputs": [
    {
     "data": {
      "text/plain": [
       "item_name\n",
       "6 Pack Soft Drink         55\n",
       "Barbacoa Bowl             66\n",
       "Barbacoa Burrito          91\n",
       "Barbacoa Crispy Tacos     12\n",
       "Barbacoa Salad Bowl       10\n",
       "Barbacoa Soft Tacos       25\n",
       "Bottled Water            211\n",
       "Bowl                       4\n",
       "Burrito                    6\n",
       "Canned Soda              126\n",
       "Name: quantity, dtype: int64"
      ]
     },
     "execution_count": 21,
     "metadata": {},
     "output_type": "execute_result"
    }
   ],
   "source": [
    "#아이템별 주문 총량\n",
    "item_quantity = chipo.groupby('item_name')['quantity'].sum() #item_name을 그룹으로 quantity피처의 sum() 계산\n",
    "item_quantity[:10]"
   ]
  },
  {
   "cell_type": "code",
   "execution_count": 23,
   "id": "f3635496",
   "metadata": {},
   "outputs": [],
   "source": [
    "%matplotlib inline\n",
    "import numpy as np\n",
    "import matplotlib.pyplot as plt"
   ]
  },
  {
   "cell_type": "code",
   "execution_count": 26,
   "id": "825fd23b",
   "metadata": {},
   "outputs": [
    {
     "data": {
      "image/png": "[encoded data removed]",
      "text/plain": [
       "<Figure size 432x288 with 1 Axes>"
      ]
     },
     "metadata": {
      "needs_background": "light"
     },
     "output_type": "display_data"
    }
   ],
   "source": [
    "item_name_list = item_quantity.index.tolist()\n",
    "x_pos = np.arange(len(item_name_list))\n",
    "order_cnt = item_quantity.values.tolist()\n",
    "\n",
    "plt.bar(x_pos, order_cnt, align='center')\n",
    "plt.ylabel('ordered_item_count')\n",
    "plt.title('Distriction of all orderd item')\n",
    "\n",
    "plt.show()"
   ]
  },
  {
   "cell_type": "markdown",
   "id": "b656f817",
   "metadata": {},
   "source": [
    "## 데이터 전처리 : 전처리 함수 사용하기\n",
    "item_price는 문자열 타입이기 때문에 item_price 피처의 요약 통계 구할 수 없었음. \n",
    "+ apply()함수\n",
    "    + 시리즈 단위의 연산을 처리하는 기능 수행.\n",
    "    + sum()이나 mean()같이 연산이 정의된 함수를 파라미터로 받는다.  \n"
   ]
  },
  {
   "cell_type": "code",
   "execution_count": 35,
   "id": "11faab8e",
   "metadata": {},
   "outputs": [
    {
     "data": {
      "text/html": [
       "<div>\n",
       "<style scoped>\n",
       "    .dataframe tbody tr th:only-of-type {\n",
       "        vertical-align: middle;\n",
       "    }\n",
       "\n",
       "    .dataframe tbody tr th {\n",
       "        vertical-align: top;\n",
       "    }\n",
       "\n",
       "    .dataframe thead th {\n",
       "        text-align: right;\n",
       "    }\n",
       "</style>\n",
       "<table border=\"1\" class=\"dataframe\">\n",
       "  <thead>\n",
       "    <tr style=\"text-align: right;\">\n",
       "      <th></th>\n",
       "      <th>quantity</th>\n",
       "      <th>item_price</th>\n",
       "    </tr>\n",
       "  </thead>\n",
       "  <tbody>\n",
       "    <tr>\n",
       "      <th>count</th>\n",
       "      <td>4622.000000</td>\n",
       "      <td>4622.000000</td>\n",
       "    </tr>\n",
       "    <tr>\n",
       "      <th>mean</th>\n",
       "      <td>1.075725</td>\n",
       "      <td>7.464336</td>\n",
       "    </tr>\n",
       "    <tr>\n",
       "      <th>std</th>\n",
       "      <td>0.410186</td>\n",
       "      <td>4.245557</td>\n",
       "    </tr>\n",
       "    <tr>\n",
       "      <th>min</th>\n",
       "      <td>1.000000</td>\n",
       "      <td>1.090000</td>\n",
       "    </tr>\n",
       "    <tr>\n",
       "      <th>25%</th>\n",
       "      <td>1.000000</td>\n",
       "      <td>3.390000</td>\n",
       "    </tr>\n",
       "    <tr>\n",
       "      <th>50%</th>\n",
       "      <td>1.000000</td>\n",
       "      <td>8.750000</td>\n",
       "    </tr>\n",
       "    <tr>\n",
       "      <th>75%</th>\n",
       "      <td>1.000000</td>\n",
       "      <td>9.250000</td>\n",
       "    </tr>\n",
       "    <tr>\n",
       "      <th>max</th>\n",
       "      <td>15.000000</td>\n",
       "      <td>44.250000</td>\n",
       "    </tr>\n",
       "  </tbody>\n",
       "</table>\n",
       "</div>"
      ],
      "text/plain": [
       "          quantity   item_price\n",
       "count  4622.000000  4622.000000\n",
       "mean      1.075725     7.464336\n",
       "std       0.410186     4.245557\n",
       "min       1.000000     1.090000\n",
       "25%       1.000000     3.390000\n",
       "50%       1.000000     8.750000\n",
       "75%       1.000000     9.250000\n",
       "max      15.000000    44.250000"
      ]
     },
     "execution_count": 35,
     "metadata": {},
     "output_type": "execute_result"
    }
   ],
   "source": [
    "#chipo['item_price'] = chipo['item_price'].apply(lambda x: float(x[1:]))\n",
    "chipo.describe()"
   ]
  },
  {
   "cell_type": "markdown",
   "id": "e00ece79",
   "metadata": {},
   "source": [
    "## 탐색적 분석 : 스무고개로 개념적 탐색 분석하기\n",
    "1. 주문당 평균 계산 금액 출력\n",
    "2. 한 주문에 10달러 이상 지불한 주문 번호(id)출력\n",
    "3. 각 아이템의 가격 구하기\n",
    "4. 가장 비싼 주문에서 아이템이 총 몇 개 팔렸는지 구하기\n",
    "5. 'Veggie Salad Bowl'이 몇 번 주문되었는지 구하기\n",
    "6. 'Chicken Bowl'을 2개 이상 주문한 고객들의 'Chicken Bowl'메뉴에 대한 총 주문 수량 구하기"
   ]
  },
  {
   "cell_type": "code",
   "execution_count": 43,
   "id": "376b2222",
   "metadata": {},
   "outputs": [
    {
     "name": "stdout",
     "output_type": "stream",
     "text": [
      "['1' '10' '100' ... '997' '998' '999']\n"
     ]
    }
   ],
   "source": [
    "tenDollar = chipo.groupby('order_id').sum() #item_name을 그룹으로 quantity피처의 sum() 계산\n",
    "result = tenDollar[tenDollar['item_price']>=10]\n",
    "print(result.index.values)"
   ]
  },
  {
   "cell_type": "code",
   "execution_count": 46,
   "id": "0dff64ea",
   "metadata": {},
   "outputs": [
    {
     "name": "stdout",
     "output_type": "stream",
     "text": [
      "                                       order_id  quantity  choice_description  \\\n",
      "item_name                                                                       \n",
      "6 Pack Soft Drink                            54        54                  54   \n",
      "Barbacoa Bowl                                66        66                  66   \n",
      "Barbacoa Burrito                             91        91                  91   \n",
      "Barbacoa Crispy Tacos                        11        11                  11   \n",
      "Barbacoa Salad Bowl                          10        10                  10   \n",
      "Barbacoa Soft Tacos                          25        25                  25   \n",
      "Bottled Water                               162       162                   0   \n",
      "Bowl                                          2         2                   2   \n",
      "Burrito                                       6         6                   6   \n",
      "Canned Soda                                 104       104                 104   \n",
      "Canned Soft Drink                           301       301                 301   \n",
      "Carnitas Bowl                                68        68                  68   \n",
      "Carnitas Burrito                             59        59                  59   \n",
      "Carnitas Crispy Tacos                         7         7                   7   \n",
      "Carnitas Salad                                1         1                   1   \n",
      "Carnitas Salad Bowl                           6         6                   6   \n",
      "Carnitas Soft Tacos                          40        40                  40   \n",
      "Chicken Bowl                                726       726                 726   \n",
      "Chicken Burrito                             553       553                 553   \n",
      "Chicken Crispy Tacos                         47        47                  47   \n",
      "Chicken Salad                                 9         9                   9   \n",
      "Chicken Salad Bowl                          110       110                 110   \n",
      "Chicken Soft Tacos                          115       115                 115   \n",
      "Chips                                       211       211                   0   \n",
      "Chips and Fresh Tomato Salsa                110       110                   0   \n",
      "Chips and Guacamole                         479       479                   0   \n",
      "Chips and Mild Fresh Tomato Salsa             1         1                   0   \n",
      "Chips and Roasted Chili Corn Salsa           22        22                   0   \n",
      "Chips and Roasted Chili-Corn Salsa           18        18                   0   \n",
      "Chips and Tomatillo Green Chili Salsa        43        43                   0   \n",
      "Chips and Tomatillo Red Chili Salsa          48        48                   0   \n",
      "Chips and Tomatillo-Green Chili Salsa        31        31                   0   \n",
      "Chips and Tomatillo-Red Chili Salsa          20        20                   0   \n",
      "Crispy Tacos                                  2         2                   2   \n",
      "Izze                                         20        20                  20   \n",
      "Nantucket Nectar                             27        27                  27   \n",
      "Salad                                         2         2                   2   \n",
      "Side of Chips                               101       101                   0   \n",
      "Steak Bowl                                  211       211                 211   \n",
      "Steak Burrito                               368       368                 368   \n",
      "Steak Crispy Tacos                           35        35                  35   \n",
      "Steak Salad                                   4         4                   4   \n",
      "Steak Salad Bowl                             29        29                  29   \n",
      "Steak Soft Tacos                             55        55                  55   \n",
      "Veggie Bowl                                  85        85                  85   \n",
      "Veggie Burrito                               95        95                  95   \n",
      "Veggie Crispy Tacos                           1         1                   1   \n",
      "Veggie Salad                                  6         6                   6   \n",
      "Veggie Salad Bowl                            18        18                  18   \n",
      "Veggie Soft Tacos                             7         7                   7   \n",
      "\n",
      "                                       item_price  \n",
      "item_name                                          \n",
      "6 Pack Soft Drink                              54  \n",
      "Barbacoa Bowl                                  66  \n",
      "Barbacoa Burrito                               91  \n",
      "Barbacoa Crispy Tacos                          11  \n",
      "Barbacoa Salad Bowl                            10  \n",
      "Barbacoa Soft Tacos                            25  \n",
      "Bottled Water                                 162  \n",
      "Bowl                                            2  \n",
      "Burrito                                         6  \n",
      "Canned Soda                                   104  \n",
      "Canned Soft Drink                             301  \n",
      "Carnitas Bowl                                  68  \n",
      "Carnitas Burrito                               59  \n",
      "Carnitas Crispy Tacos                           7  \n",
      "Carnitas Salad                                  1  \n",
      "Carnitas Salad Bowl                             6  \n",
      "Carnitas Soft Tacos                            40  \n",
      "Chicken Bowl                                  726  \n",
      "Chicken Burrito                               553  \n",
      "Chicken Crispy Tacos                           47  \n",
      "Chicken Salad                                   9  \n",
      "Chicken Salad Bowl                            110  \n",
      "Chicken Soft Tacos                            115  \n",
      "Chips                                         211  \n",
      "Chips and Fresh Tomato Salsa                  110  \n",
      "Chips and Guacamole                           479  \n",
      "Chips and Mild Fresh Tomato Salsa               1  \n",
      "Chips and Roasted Chili Corn Salsa             22  \n",
      "Chips and Roasted Chili-Corn Salsa             18  \n",
      "Chips and Tomatillo Green Chili Salsa          43  \n",
      "Chips and Tomatillo Red Chili Salsa            48  \n",
      "Chips and Tomatillo-Green Chili Salsa          31  \n",
      "Chips and Tomatillo-Red Chili Salsa            20  \n",
      "Crispy Tacos                                    2  \n",
      "Izze                                           20  \n",
      "Nantucket Nectar                               27  \n",
      "Salad                                           2  \n",
      "Side of Chips                                 101  \n",
      "Steak Bowl                                    211  \n",
      "Steak Burrito                                 368  \n",
      "Steak Crispy Tacos                             35  \n",
      "Steak Salad                                     4  \n",
      "Steak Salad Bowl                               29  \n",
      "Steak Soft Tacos                               55  \n",
      "Veggie Bowl                                    85  \n",
      "Veggie Burrito                                 95  \n",
      "Veggie Crispy Tacos                             1  \n",
      "Veggie Salad                                    6  \n",
      "Veggie Salad Bowl                              18  \n",
      "Veggie Soft Tacos                               7  \n"
     ]
    }
   ],
   "source": [
    "eachItem = chipo.groupby('item_name').count()\n",
    "print(eachItem)"
   ]
  },
  {
   "cell_type": "code",
   "execution_count": 53,
   "id": "b41b7b29",
   "metadata": {},
   "outputs": [
    {
     "name": "stdout",
     "output_type": "stream",
     "text": [
      "          quantity  item_price\n",
      "order_id                      \n",
      "926             23      205.25\n",
      "1443            35      160.74\n",
      "1483            14      139.00\n",
      "691             11      118.25\n",
      "1786            20      114.30\n"
     ]
    }
   ],
   "source": [
    "highOrder = chipo.groupby('order_id').sum().sort_values(by='item_price', ascending=False)[:5]\n",
    "print(highOrder)"
   ]
  }
 ],
 "metadata": {
  "kernelspec": {
   "display_name": "Python 3",
   "language": "python",
   "name": "python3"
  },
  "language_info": {
   "codemirror_mode": {
    "name": "ipython",
    "version": 3
   },
   "file_extension": ".py",
   "mimetype": "text/x-python",
   "name": "python",
   "nbconvert_exporter": "python",
   "pygments_lexer": "ipython3",
   "version": "3.8.12"
  }
 },
 "nbformat": 4,
 "nbformat_minor": 5
}
